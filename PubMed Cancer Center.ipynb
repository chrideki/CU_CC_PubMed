{
 "cells": [
  {
   "cell_type": "code",
   "execution_count": 28,
   "id": "48a6eb58",
   "metadata": {},
   "outputs": [],
   "source": [
    "import pandas as pd\n",
    "from Bio import Entrez\n",
    "import time\n",
    "import requests\n",
    "from keybert import KeyBERT"
   ]
  },
  {
   "cell_type": "code",
   "execution_count": 3,
   "id": "3cce25a7",
   "metadata": {},
   "outputs": [],
   "source": [
    "# Configure Entrez\n",
    "Entrez.email = \"christian.goldoni@gmail.com\""
   ]
  },
  {
   "cell_type": "code",
   "execution_count": 7,
   "id": "985a3608",
   "metadata": {},
   "outputs": [],
   "source": [
    "# Function to search PubMed\n",
    "def search_pubmed(query):\n",
    "    handle = Entrez.esearch(db=\"pubmed\", term=query, retmax=10000)\n",
    "    results = Entrez.read(handle)\n",
    "    handle.close()\n",
    "    return results[\"IdList\"]\n",
    "\n",
    "# Function to fetch article details\n",
    "def fetch_article_details(ids):\n",
    "    handle = Entrez.efetch(db=\"pubmed\", id=ids, rettype=\"xml\", retmode=\"text\")\n",
    "    articles = Entrez.read(handle)\n",
    "    handle.close()\n",
    "    return articles\n",
    "\n",
    "def get_first_author_affiliation(article):\n",
    "    #try:\n",
    "    author_list = article[\"MedlineCitation\"].get(\"Article\", {}).get(\"AuthorList\", [])\n",
    "\n",
    "    # Check if AuthorList is a list or a single dictionary\n",
    "    if isinstance(author_list, list):\n",
    "        first_author = author_list[0]\n",
    "    else:\n",
    "        first_author = author_list  # Assume it's a dictionary if not a list\n",
    "\n",
    "    # Get the affiliation info\n",
    "    return first_author.get(\"AffiliationInfo\", [{}])[0].get(\"Affiliation\", \"\")\n",
    "    #except (IndexError, AttributeError, TypeError):\n",
    "    #return \"\""
   ]
  },
  {
   "cell_type": "code",
   "execution_count": 8,
   "id": "ef3be21b",
   "metadata": {},
   "outputs": [],
   "source": [
    "# Function to get the article's DOI\n",
    "def get_DOI(article):\n",
    "    article_id_list = article.get(\"PubmedData\", {}).get(\"ArticleIdList\", [])\n",
    "    for item in article_id_list:\n",
    "        if item.attributes.get(\"IdType\") == \"doi\":\n",
    "            return str(item)\n",
    "\n",
    "# Function to calculate the number of citations scraping pubmed\n",
    "def get_citation_count(doi):\n",
    "    url = f\"https://api.crossref.org/works/{doi}\"\n",
    "    response = requests.get(url)\n",
    "    if response.status_code == 200:\n",
    "        data = response.json()\n",
    "        return data.get(\"message\", {}).get(\"is-referenced-by-count\", 0)\n",
    "    else:\n",
    "        return \"Error: Unable to retrieve citation count\""
   ]
  },
  {
   "cell_type": "code",
   "execution_count": 45,
   "id": "e7c7be57-7063-4130-936d-07be666b1f1f",
   "metadata": {},
   "outputs": [],
   "source": [
    "# Initialize KeyBERT\n",
    "kw_model = KeyBERT()\n",
    "\n",
    "# Function to get keywords through KeyBERT\n",
    "def get_keywords(text):\n",
    "    keywords = kw_model.extract_keywords(text, keyphrase_ngram_range=(1, 2), stop_words='english', top_n=5)\n",
    "    output = \"; \".join(\n",
    "            [kw[0] for kw in keywords]\n",
    "            )\n",
    "    return output"
   ]
  },
  {
   "cell_type": "code",
   "execution_count": 46,
   "id": "6afa5f63",
   "metadata": {},
   "outputs": [
    {
     "name": "stdout",
     "output_type": "stream",
     "text": [
      "Searching PubMed...\n",
      "Found 1764 articles.\n",
      "Fetching articles 1-100...\n",
      "Fetching articles 101-200...\n",
      "Fetching articles 201-300...\n",
      "Fetching articles 301-400...\n",
      "Fetching articles 401-500...\n",
      "Fetching articles 501-600...\n",
      "Fetching articles 601-700...\n",
      "Fetching articles 701-800...\n",
      "Fetching articles 801-900...\n",
      "Fetching articles 901-1000...\n",
      "Fetching articles 1001-1100...\n",
      "Fetching articles 1101-1200...\n",
      "Fetching articles 1201-1300...\n",
      "Fetching articles 1301-1400...\n",
      "Fetching articles 1401-1500...\n",
      "Fetching articles 1501-1600...\n",
      "Fetching articles 1601-1700...\n",
      "Fetching articles 1701-1764...\n",
      "Done.\n"
     ]
    }
   ],
   "source": [
    "# Define search query\n",
    "query = \"University Colorado cancer center [ad]\"\n",
    "\n",
    "# Search PubMed with refined query\n",
    "print(\"Searching PubMed...\")\n",
    "ids = search_pubmed(query)\n",
    "print(f\"Found {len(ids)} articles.\")\n",
    "\n",
    "# Prepare DataFrame to store metadata\n",
    "columns = [\"PMID\",\"DOI\", \"Title\", \"Journal\", \"PubDate\", \"PubTypes\", \"Authors\", \"Abstract\", \"Citations\", \"Keywords\"]\n",
    "data = []\n",
    "\n",
    "# Fetch article details in batches\n",
    "batch_size = 100\n",
    "for start in range(0, len(ids), batch_size):\n",
    "    end = start + batch_size\n",
    "    print(f\"Fetching articles {start + 1}-{min(end, len(ids))}...\")\n",
    "    batch_ids = ids[start:end]\n",
    "    articles = fetch_article_details(batch_ids)\n",
    "\n",
    "    for article in articles[\"PubmedArticle\"]:\n",
    "        try:\n",
    "            # Extract relevant fields\n",
    "            doi = get_DOI(article)\n",
    "            abstract_text = article[\"MedlineCitation\"].get(\"Article\", {}).get(\"Abstract\", {}).get(\"AbstractText\", [\"\"])[0]\n",
    "            metadata = {\n",
    "                \"PMID\": article[\"MedlineCitation\"][\"PMID\"],\n",
    "                \"DOI\": doi,\n",
    "                \"Title\": article[\"MedlineCitation\"].get(\"Article\", {}).get(\"ArticleTitle\", \"\"),\n",
    "                \"Journal\": article[\"MedlineCitation\"].get(\"Article\", {}).get(\"Journal\", {}).get(\"Title\", \"\"),\n",
    "                \"PubDate\": article[\"MedlineCitation\"].get(\"Article\", {}).get(\"Journal\", {}).get(\"JournalIssue\", {}).get(\"PubDate\", {}).get(\"Year\", \"\"),\n",
    "                \"PubTypes\": \"; \".join(\n",
    "                    [\n",
    "                        f\"{str(pubtype)}\"\n",
    "                        for pubtype in article[\"MedlineCitation\"].get(\"Article\", {}).get(\"PublicationTypeList\", [])\n",
    "                    ]\n",
    "                ),\n",
    "                \n",
    "                \"Authors\": \"; \".join(\n",
    "                    [\n",
    "                        f\"{author.get('LastName', '')} {author.get('ForeName', '')}\"\n",
    "                        for author in article[\"MedlineCitation\"].get(\"Article\", {}).get(\"AuthorList\", [])\n",
    "                    ]\n",
    "                ),\n",
    "                \n",
    "                \"Abstract\": abstract_text,\n",
    "                \"Citations\": get_citation_count(doi),\n",
    "                \"Keywords\": get_keywords(abstract_text),\n",
    "            }\n",
    "\n",
    "            # Append metadata to the data list\n",
    "            data.append([\n",
    "                metadata[\"PMID\"],\n",
    "                metadata[\"DOI\"],\n",
    "                metadata[\"Title\"],\n",
    "                metadata[\"Journal\"],\n",
    "                metadata[\"PubDate\"],\n",
    "                metadata[\"PubTypes\"],\n",
    "                metadata[\"Authors\"],\n",
    "                metadata[\"Abstract\"],\n",
    "                metadata[\"Citations\"],\n",
    "                metadata[\"Keywords\"],\n",
    "            ])\n",
    "        except Exception as e:\n",
    "            print(f\"Error processing article: {e}\")\n",
    "\n",
    "    # Pause to respect NCBI rate limits\n",
    "    time.sleep(1)\n",
    "\n",
    "# Create DataFrame and display it\n",
    "df = pd.DataFrame(data, columns=columns)\n",
    "\n",
    "print(\"Done.\")"
   ]
  },
  {
   "cell_type": "code",
   "execution_count": 50,
   "id": "c942ebab",
   "metadata": {},
   "outputs": [],
   "source": [
    "df.to_csv('CU_Cancer_Center_PubMed.csv')"
   ]
  },
  {
   "cell_type": "code",
   "execution_count": 18,
   "id": "32233070",
   "metadata": {},
   "outputs": [],
   "source": [
    "SplitAuthors = df.join(df['Authors'].str.split(';', expand=True))"
   ]
  },
  {
   "cell_type": "code",
   "execution_count": 21,
   "id": "76c6cc44-9bc2-4d37-8b57-4e9d76a266b9",
   "metadata": {},
   "outputs": [],
   "source": [
    "SplitAuthors.to_csv('CU_CC_SplitAuthors.csv')"
   ]
  },
  {
   "cell_type": "code",
   "execution_count": 22,
   "id": "309c4268-8d79-400c-9dc4-b758e0efd871",
   "metadata": {},
   "outputs": [],
   "source": [
    "SplitTypes = df.join(df['PubTypes'].str.split(';', expand=True))"
   ]
  },
  {
   "cell_type": "code",
   "execution_count": 24,
   "id": "d9f1975a-96a9-42e2-8ede-c90f01a0aa9e",
   "metadata": {},
   "outputs": [],
   "source": [
    "SplitTypes.to_csv('CU_CC_SplitTypes.csv')"
   ]
  },
  {
   "cell_type": "code",
   "execution_count": 48,
   "id": "cccf7b02-d0d2-4fbe-8ba8-a58940dcd2b3",
   "metadata": {},
   "outputs": [],
   "source": [
    "SplitKeywords = df.join(df['Keywords'].str.split(';', expand=True))"
   ]
  },
  {
   "cell_type": "code",
   "execution_count": 49,
   "id": "0b62bc08-3d52-4ec9-8da2-a13577e5fbc9",
   "metadata": {},
   "outputs": [],
   "source": [
    "SplitKeywords.to_csv('CU_CC_SplitKeywords.csv')"
   ]
  },
  {
   "cell_type": "code",
   "execution_count": null,
   "id": "d259aee5-3892-4019-807c-a5f4f9892579",
   "metadata": {},
   "outputs": [],
   "source": []
  }
 ],
 "metadata": {
  "kernelspec": {
   "display_name": "Python [conda env:base] *",
   "language": "python",
   "name": "conda-base-py"
  },
  "language_info": {
   "codemirror_mode": {
    "name": "ipython",
    "version": 3
   },
   "file_extension": ".py",
   "mimetype": "text/x-python",
   "name": "python",
   "nbconvert_exporter": "python",
   "pygments_lexer": "ipython3",
   "version": "3.9.21"
  }
 },
 "nbformat": 4,
 "nbformat_minor": 5
}
